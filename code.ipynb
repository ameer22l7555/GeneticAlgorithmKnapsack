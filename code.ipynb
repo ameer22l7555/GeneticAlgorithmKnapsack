{
  "nbformat": 4,
  "nbformat_minor": 0,
  "metadata": {
    "colab": {
      "provenance": []
    },
    "kernelspec": {
      "name": "python3",
      "display_name": "Python 3"
    },
    "language_info": {
      "name": "python"
    }
  },
  "cells": [
    {
      "cell_type": "code",
      "source": [
        "import random"
      ],
      "metadata": {
        "id": "Gh3n9A_64b7w"
      },
      "execution_count": 16,
      "outputs": []
    },
    {
      "cell_type": "code",
      "source": [
        "W = 15"
      ],
      "metadata": {
        "id": "kVorQuCD4dd4"
      },
      "execution_count": 17,
      "outputs": []
    },
    {
      "cell_type": "code",
      "source": [
        "profit = [10, 40, 30, 50, 35, 40, 30, 60, 45, 55]"
      ],
      "metadata": {
        "id": "SE6SGIYl4egp"
      },
      "execution_count": 18,
      "outputs": []
    },
    {
      "cell_type": "code",
      "source": [
        "weight = [5, 4, 6, 3, 7, 8, 6, 2, 9, 10]"
      ],
      "metadata": {
        "id": "vwzurp0g4fcK"
      },
      "execution_count": 19,
      "outputs": []
    },
    {
      "cell_type": "code",
      "source": [
        "n = len(profit)"
      ],
      "metadata": {
        "id": "Xzq_efAQ4gRj"
      },
      "execution_count": 20,
      "outputs": []
    },
    {
      "cell_type": "code",
      "source": [
        "population_size = 10 # Number of candidate solutions in each generation\n",
        "generations = 100 # Number of iterations\n",
        "crossover_rate = 0.8 # Probability of crossover\n",
        "mutation_rate = 0.1 # Probability of mutation"
      ],
      "metadata": {
        "id": "eIthPGKc4jO8"
      },
      "execution_count": 21,
      "outputs": []
    },
    {
      "cell_type": "code",
      "source": [
        "def calculate_fitness(individual):\n",
        "    total_profit = 0\n",
        "    total_weight = 0\n",
        "    for i in range(len(individual)):\n",
        "        total_profit += profit[i] * individual[i]\n",
        "        total_weight += weight[i] * individual[i]\n",
        "\n",
        "    if total_weight <= W:\n",
        "        return total_profit\n",
        "    else:\n",
        "        return -total_profit"
      ],
      "metadata": {
        "id": "JoCCqNj64nn_"
      },
      "execution_count": 22,
      "outputs": []
    },
    {
      "cell_type": "code",
      "source": [
        "def create_population():\n",
        "    population = []\n",
        "    for x in range(population_size):\n",
        "        individual = []\n",
        "        for y in range(n):\n",
        "            individual.append(random.randint(0, 1))\n",
        "        population.append(individual)\n",
        "    return population"
      ],
      "metadata": {
        "id": "X_7Y83ym44wt"
      },
      "execution_count": 23,
      "outputs": []
    },
    {
      "cell_type": "code",
      "source": [
        "def tournament_selection(population, tournament_size=3):\n",
        "    tournament = random.sample(population, tournament_size)\n",
        "    return max(tournament, key=calculate_fitness)"
      ],
      "metadata": {
        "id": "_pLN9vhb49Io"
      },
      "execution_count": 24,
      "outputs": []
    },
    {
      "cell_type": "code",
      "source": [
        "def crossover(parent1, parent2):\n",
        "    if random.random() < crossover_rate:\n",
        "        point = random.randint(1, n-1)\n",
        "        child1 = parent1[:point] + parent2[point:]\n",
        "        child2 = parent2[:point] + parent1[point:]\n",
        "        return child1, child2\n",
        "    return parent1.copy(), parent2.copy()"
      ],
      "metadata": {
        "id": "cemc6awY4-3d"
      },
      "execution_count": 25,
      "outputs": []
    },
    {
      "cell_type": "code",
      "source": [
        "def mutate(individual):\n",
        "    individual = individual.copy()\n",
        "    for i in range(n):\n",
        "        if random.random() < mutation_rate:\n",
        "            individual[i] = 1 - individual[i]\n",
        "    return individual"
      ],
      "metadata": {
        "id": "1YCzxGNl5AXG"
      },
      "execution_count": 26,
      "outputs": []
    },
    {
      "cell_type": "code",
      "source": [
        "def genetic_algorithm():\n",
        "    population = create_population()\n",
        "    for _ in range(generations):\n",
        "        new_population = []\n",
        "\n",
        "        best_individual = max(population, key=calculate_fitness)\n",
        "        new_population.append(best_individual.copy())\n",
        "\n",
        "        while len(new_population) < population_size:\n",
        "            parent1 = tournament_selection(population)\n",
        "            parent2 = tournament_selection(population)\n",
        "            child1, child2 = crossover(parent1, parent2)\n",
        "            child1 = mutate(child1)\n",
        "            child2 = mutate(child2)\n",
        "            new_population.append(child1)\n",
        "            if len(new_population) < population_size:\n",
        "                new_population.append(child2)\n",
        "        population = new_population\n",
        "    best_solution = max(population, key=calculate_fitness)\n",
        "    return best_solution, calculate_fitness(best_solution)"
      ],
      "metadata": {
        "id": "COSzXl_S5D7p"
      },
      "execution_count": 27,
      "outputs": []
    },
    {
      "cell_type": "code",
      "source": [
        "best_solution, best_fitness = genetic_algorithm()"
      ],
      "metadata": {
        "id": "Z8GYpAYJ5Fo_"
      },
      "execution_count": 28,
      "outputs": []
    },
    {
      "cell_type": "code",
      "execution_count": 29,
      "metadata": {
        "colab": {
          "base_uri": "https://localhost:8080/"
        },
        "id": "xYpJ6-Dsz5Yz",
        "outputId": "f89c69c8-59a7-4c11-838a-8a5eed9a53ad"
      },
      "outputs": [
        {
          "output_type": "stream",
          "name": "stdout",
          "text": [
            "Best Solution: [0, 1, 1, 1, 0, 0, 0, 1, 0, 0]\n",
            "Total Profit: 180\n",
            "Total Weight: 15\n"
          ]
        }
      ],
      "source": [
        "print(\"Best Solution:\", best_solution)\n",
        "print(\"Total Profit:\", best_fitness)\n",
        "\n",
        "total_weight = 0\n",
        "for i in range(n):\n",
        "    if best_solution[i] == 1:\n",
        "        total_weight += weight[i]\n",
        "print(\"Total Weight:\", total_weight)"
      ]
    }
  ]
}